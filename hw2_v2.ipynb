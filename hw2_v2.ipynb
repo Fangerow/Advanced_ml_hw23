{
 "cells": [
  {
   "cell_type": "code",
   "execution_count": 1,
   "id": "79d65a25",
   "metadata": {},
   "outputs": [],
   "source": [
    "import pandas as pd\n",
    "import numpy as np\n",
    "import pickle\n",
    "import os\n",
    "\n",
    "from tqdm.auto import tqdm"
   ]
  },
  {
   "cell_type": "markdown",
   "id": "3b49b820",
   "metadata": {},
   "source": [
    "## Пункт 1"
   ]
  },
  {
   "cell_type": "markdown",
   "id": "44506002",
   "metadata": {},
   "source": [
    "Вспомогательный функци загрузки и очистки данных"
   ]
  },
  {
   "cell_type": "code",
   "execution_count": 2,
   "id": "c20331eb",
   "metadata": {},
   "outputs": [],
   "source": [
    "def load_data():\n",
    "    players = pd.read_pickle(\"players.pkl\")\n",
    "    results = pd.read_pickle(\"results.pkl\")\n",
    "    tournaments = pd.read_pickle(\"tournaments.pkl\")\n",
    "\n",
    "    players = pd.DataFrame(players).T\n",
    "    tournaments = pd.DataFrame(tournaments).T\n",
    "\n",
    "    return players, results, tournaments\n",
    "\n",
    "def filter_tournaments_by_date(tournaments, start_date, end_date=None):\n",
    "    if end_date:\n",
    "        return tournaments[(tournaments['dateStart'] >= start_date) & (tournaments['dateStart'] < end_date)].index\n",
    "    else:\n",
    "        return tournaments[tournaments['dateStart'] >= start_date].index\n",
    "\n",
    "def clean_indices(idx_list, results):\n",
    "    cleaned_idx_list = []\n",
    "    for i in tqdm(idx_list):\n",
    "        try:\n",
    "            if results[i][0]['team'] and results[i][0]['mask']:\n",
    "                cleaned_idx_list.append(i)\n",
    "        except:\n",
    "            continue\n",
    "    return cleaned_idx_list"
   ]
  },
  {
   "cell_type": "code",
   "execution_count": 3,
   "id": "cf7a7b09",
   "metadata": {},
   "outputs": [
    {
     "name": "stdout",
     "output_type": "stream",
     "text": [
      "Data train length:  687\n",
      "Data test length:  422\n"
     ]
    },
    {
     "data": {
      "application/vnd.jupyter.widget-view+json": {
       "model_id": "2579f6659be2451d8f19430cf7d7715c",
       "version_major": 2,
       "version_minor": 0
      },
      "text/plain": [
       "  0%|          | 0/687 [00:00<?, ?it/s]"
      ]
     },
     "metadata": {},
     "output_type": "display_data"
    },
    {
     "data": {
      "application/vnd.jupyter.widget-view+json": {
       "model_id": "b32718cf4bcb4a9199c8c99333e7d659",
       "version_major": 2,
       "version_minor": 0
      },
      "text/plain": [
       "  0%|          | 0/422 [00:00<?, ?it/s]"
      ]
     },
     "metadata": {},
     "output_type": "display_data"
    },
    {
     "name": "stdout",
     "output_type": "stream",
     "text": [
      "Clean data train length:  674\n",
      "Clean data test length:  173\n"
     ]
    }
   ],
   "source": [
    "# Загружаем данные\n",
    "players, results, tournaments = load_data()\n",
    "\n",
    "# Определение индексов турниров для обучающего и тестового наборов данных\n",
    "idx_list_train = filter_tournaments_by_date(tournaments, '2019', '2020')\n",
    "idx_list_test = filter_tournaments_by_date(tournaments, '2020')\n",
    "\n",
    "print('Data train length: ', len(idx_list_train))\n",
    "print('Data test length: ', len(idx_list_test))\n",
    "\n",
    "# Очистка списков индексов турниров\n",
    "idx_list_train_cleaned = clean_indices(idx_list_train, results)\n",
    "idx_list_test_cleaned = clean_indices(idx_list_test, results)\n",
    "\n",
    "print('Clean data train length: ', len(idx_list_train_cleaned))\n",
    "print('Clean data test length: ', len(idx_list_test_cleaned))"
   ]
  },
  {
   "cell_type": "markdown",
   "id": "596ea903",
   "metadata": {},
   "source": [
    "Функция create_df предназначена для создания датафрейма, содержащего данные об игроках, их командах и ответах на вопросы для заданных турниров.  \n",
    "Функция проходит по каждому индексу турнира в idx_list и извлекает информацию о команде и её ответах на вопросы из словаря results.      \n",
    "\n",
    "Таким образом, созданный датафрейм содержит все необходимые данные об игроках, командах и их ответах на вопросы, которые можно использовать для дальнейшего анализа и обучения модели. Загрузка данных в этой функции происходит в структурированном и последовательном порядке, что обеспечивает простоту и понимание процесса."
   ]
  },
  {
   "cell_type": "code",
   "execution_count": 4,
   "id": "c2679434",
   "metadata": {},
   "outputs": [],
   "source": [
    "def create_df(idx_list):\n",
    "    df_results = []\n",
    "    for idx in tqdm(idx_list):\n",
    "        for team in results[idx]:\n",
    "            if 'mask' in team and team['mask']:\n",
    "                mask = team['mask'].translate(str.maketrans('X?', '00'))\n",
    "                players = team['teamMembers']\n",
    "                team_id = team['team']['id']\n",
    "                for player in players:  \n",
    "                    player_id = player['player']['id']\n",
    "                    for no_q, answer in enumerate(mask): \n",
    "                        df_results.append([idx, team_id, player_id, no_q, answer])\n",
    "    df = pd.DataFrame(df_results, columns=['tournament_id', 'team_id', 'player_id', 'question', 'answer'])\n",
    "    return df"
   ]
  },
  {
   "cell_type": "code",
   "execution_count": 5,
   "id": "1c706d8e",
   "metadata": {},
   "outputs": [
    {
     "data": {
      "application/vnd.jupyter.widget-view+json": {
       "model_id": "2d663a4e0832424aae95b86442505464",
       "version_major": 2,
       "version_minor": 0
      },
      "text/plain": [
       "  0%|          | 0/687 [00:00<?, ?it/s]"
      ]
     },
     "metadata": {},
     "output_type": "display_data"
    }
   ],
   "source": [
    "df_train = create_df(idx_list_train)"
   ]
  },
  {
   "cell_type": "code",
   "execution_count": 6,
   "id": "dd3cbbb6",
   "metadata": {},
   "outputs": [
    {
     "data": {
      "application/vnd.jupyter.widget-view+json": {
       "model_id": "9ec7ae5e084d4a41a0799ef72e71ac69",
       "version_major": 2,
       "version_minor": 0
      },
      "text/plain": [
       "  0%|          | 0/422 [00:00<?, ?it/s]"
      ]
     },
     "metadata": {},
     "output_type": "display_data"
    }
   ],
   "source": [
    "df_test = create_df(idx_list_test)"
   ]
  },
  {
   "cell_type": "code",
   "execution_count": 7,
   "id": "9df9173d",
   "metadata": {},
   "outputs": [
    {
     "data": {
      "text/html": [
       "<div>\n",
       "<style scoped>\n",
       "    .dataframe tbody tr th:only-of-type {\n",
       "        vertical-align: middle;\n",
       "    }\n",
       "\n",
       "    .dataframe tbody tr th {\n",
       "        vertical-align: top;\n",
       "    }\n",
       "\n",
       "    .dataframe thead th {\n",
       "        text-align: right;\n",
       "    }\n",
       "</style>\n",
       "<table border=\"1\" class=\"dataframe\">\n",
       "  <thead>\n",
       "    <tr style=\"text-align: right;\">\n",
       "      <th></th>\n",
       "      <th>tournament_id</th>\n",
       "      <th>team_id</th>\n",
       "      <th>player_id</th>\n",
       "      <th>question</th>\n",
       "      <th>answer</th>\n",
       "    </tr>\n",
       "  </thead>\n",
       "  <tbody>\n",
       "    <tr>\n",
       "      <th>0</th>\n",
       "      <td>4772</td>\n",
       "      <td>45556</td>\n",
       "      <td>6212</td>\n",
       "      <td>0</td>\n",
       "      <td>1</td>\n",
       "    </tr>\n",
       "    <tr>\n",
       "      <th>1</th>\n",
       "      <td>4772</td>\n",
       "      <td>45556</td>\n",
       "      <td>6212</td>\n",
       "      <td>1</td>\n",
       "      <td>1</td>\n",
       "    </tr>\n",
       "    <tr>\n",
       "      <th>2</th>\n",
       "      <td>4772</td>\n",
       "      <td>45556</td>\n",
       "      <td>6212</td>\n",
       "      <td>2</td>\n",
       "      <td>1</td>\n",
       "    </tr>\n",
       "    <tr>\n",
       "      <th>3</th>\n",
       "      <td>4772</td>\n",
       "      <td>45556</td>\n",
       "      <td>6212</td>\n",
       "      <td>3</td>\n",
       "      <td>1</td>\n",
       "    </tr>\n",
       "    <tr>\n",
       "      <th>4</th>\n",
       "      <td>4772</td>\n",
       "      <td>45556</td>\n",
       "      <td>6212</td>\n",
       "      <td>4</td>\n",
       "      <td>1</td>\n",
       "    </tr>\n",
       "  </tbody>\n",
       "</table>\n",
       "</div>"
      ],
      "text/plain": [
       "   tournament_id  team_id  player_id  question answer\n",
       "0           4772    45556       6212         0      1\n",
       "1           4772    45556       6212         1      1\n",
       "2           4772    45556       6212         2      1\n",
       "3           4772    45556       6212         3      1\n",
       "4           4772    45556       6212         4      1"
      ]
     },
     "execution_count": 7,
     "metadata": {},
     "output_type": "execute_result"
    }
   ],
   "source": [
    "df_train.head()"
   ]
  },
  {
   "cell_type": "markdown",
   "id": "f98a2857",
   "metadata": {},
   "source": [
    "## Пункт 2"
   ]
  },
  {
   "cell_type": "code",
   "execution_count": 11,
   "id": "e741acc2",
   "metadata": {},
   "outputs": [],
   "source": [
    "from sklearn.preprocessing import OneHotEncoder\n",
    "from sklearn.linear_model import LogisticRegression\n",
    "from sklearn.metrics import roc_auc_score\n",
    "from sklearn.compose import ColumnTransformer\n",
    "from sklearn.pipeline import Pipeline\n",
    "\n",
    "categorical_transformer = OneHotEncoder(handle_unknown='ignore')\n",
    "categorical_features = ['tournament_id', 'player_id']\n",
    "X, y = df_train[categorical_features], df_train['answer']\n",
    "X_test, y_test = df_test[categorical_features], df_test['answer']\n",
    "\n",
    "preprocessor = ColumnTransformer(\n",
    "    transformers=[\n",
    "        (\"Dummies\", categorical_transformer, categorical_features),\n",
    "    ]\n",
    ")\n",
    "clf = Pipeline(\n",
    "    steps=[(\"preprocessor\", preprocessor), (\"classifier\", LogisticRegression(solver='liblinear'))]\n",
    ")\n",
    "clf.fit(X, y);"
   ]
  },
  {
   "cell_type": "code",
   "execution_count": 12,
   "id": "ca683a21",
   "metadata": {},
   "outputs": [
    {
     "name": "stdout",
     "output_type": "stream",
     "text": [
      "ROC-AUC score: 0.6176\n"
     ]
    }
   ],
   "source": [
    "# predict probabiliti of right answer\n",
    "y_pred = clf.predict_proba(X_test)[:, 1]\n",
    "\n",
    "# mode estimation with ROC-AUC\n",
    "roc_auc = roc_auc_score(y_test, y_pred)\n",
    "print(f\"ROC-AUC score: {roc_auc:.4f}\")"
   ]
  },
  {
   "cell_type": "code",
   "execution_count": 14,
   "id": "4e065917",
   "metadata": {},
   "outputs": [],
   "source": [
    "n_players = df_train.player_id.nunique()\n",
    "n_tourn = df_train.tournament_id.nunique()\n",
    "powers = clf['classifier'].coef_[0][n_tourn:]\n",
    "players_ids = sorted(df_train.player_id.unique())\n",
    "players_rating = dict(zip(players_ids, powers))"
   ]
  },
  {
   "cell_type": "markdown",
   "id": "8bf3b5eb",
   "metadata": {},
   "source": [
    "## Пункт 3"
   ]
  },
  {
   "cell_type": "markdown",
   "id": "f965bf62",
   "metadata": {},
   "source": [
    "Функция validation оценивает качество предсказаний модели на тестовых данных, вычисляя корреляции Спирмена и Кендалла между реальными и предсказанными позициями команд в турнирах. Она формирует словарь рейтинга игроков, агрегирует рейтинги по командам и турнирам, и выводит средние значения корреляций."
   ]
  },
  {
   "cell_type": "code",
   "execution_count": 28,
   "id": "2a904e9e",
   "metadata": {},
   "outputs": [],
   "source": [
    "from scipy import stats\n",
    "\n",
    "def validation(clf, df, players_ids, results, idx_list, n_tourn):\n",
    "    # Create a dictionary with player strength\n",
    "    powers = clf['classifier'].coef_[0][n_tourn:]\n",
    "    players_rating = dict(zip(players_ids, powers))\n",
    "\n",
    "    # Add a column with player ratings to the DataFrame\n",
    "    df['player_rating'] = df['player_id'].map(players_rating)\n",
    "\n",
    "    # Create the dict_labels from the given results and idx_list_test\n",
    "    dict_labels = {}\n",
    "    for idx in tqdm(idx_list):\n",
    "        dict_labels[idx] = {}\n",
    "        for team in results[idx]:\n",
    "            try:\n",
    "                team_id = team['team']['id']\n",
    "                team_pos = team['position']\n",
    "            except:\n",
    "                continue\n",
    "            dict_labels[idx][team_id] = team_pos\n",
    "\n",
    "    # Group data by tournaments and teams, and sum the team ratings\n",
    "    team_rating = df.groupby(['tournament_id', 'team_id'])['player_rating'].sum().reset_index()\n",
    "    team_rating.columns = ['tournament_id', 'team_id', 'rating']\n",
    "    \n",
    "    team_rating['labels_pred'] = team_rating.groupby('tournament_id')['rating'].rank(ascending=False, method='min')\n",
    "    team_rating['labels'] = team_rating.apply(lambda row: dict_labels[row['tournament_id']][row['team_id']], axis=1)\n",
    "\n",
    "    # Calculate correlations separately for each tournament, then find the mean\n",
    "    spearman_correlations = []\n",
    "    kendall_correlations = []\n",
    "\n",
    "    for tournament_id, tournament_data in team_rating.groupby('tournament_id'):\n",
    "        if len(tournament_data) > 1:\n",
    "            spearman_corr = stats.spearmanr(tournament_data['labels_pred'], tournament_data['labels']).correlation\n",
    "            kendall_corr = stats.kendalltau(tournament_data['labels_pred'], tournament_data['labels']).correlation\n",
    "            \n",
    "            spearman_correlations.append(spearman_corr)\n",
    "            kendall_correlations.append(kendall_corr)\n",
    "\n",
    "    print(f\"Spearman correlation: {np.mean(spearman_correlations):.2f}\")\n",
    "    print(f\"Kendall correlation: {np.mean(kendall_correlations):.2f}\")\n"
   ]
  },
  {
   "cell_type": "code",
   "execution_count": 32,
   "id": "a8aac11e",
   "metadata": {},
   "outputs": [],
   "source": [
    "players_ids = sorted(df_train.player_id.unique())\n",
    "df = df_test.groupby(['tournament_id','team_id','player_id']).question.count().reset_index()\n",
    "n_tourn = df_train.tournament_id.nunique()"
   ]
  },
  {
   "cell_type": "code",
   "execution_count": 33,
   "id": "68d04390",
   "metadata": {},
   "outputs": [
    {
     "data": {
      "application/vnd.jupyter.widget-view+json": {
       "model_id": "7a81ab39eafd466b94267f46a205e18e",
       "version_major": 2,
       "version_minor": 0
      },
      "text/plain": [
       "  0%|          | 0/422 [00:00<?, ?it/s]"
      ]
     },
     "metadata": {},
     "output_type": "display_data"
    },
    {
     "name": "stdout",
     "output_type": "stream",
     "text": [
      "Spearman correlation =  0.78\n",
      "Kendall correlation =  0.62\n"
     ]
    }
   ],
   "source": [
    "validation(\n",
    "    clf, df,\n",
    "    players_ids,  \n",
    "    results,\n",
    "    idx_list_test, n_tourn\n",
    ")"
   ]
  },
  {
   "cell_type": "markdown",
   "id": "93a32e59",
   "metadata": {},
   "source": [
    "## Пункт 4"
   ]
  },
  {
   "cell_type": "code",
   "execution_count": 39,
   "id": "d7eb38a7",
   "metadata": {},
   "outputs": [],
   "source": [
    "def train_model(X, y):\n",
    "    categorical_transformer = OneHotEncoder()\n",
    "    categorical_features = ['tournament_id', 'player_id']\n",
    "\n",
    "    preprocessor = ColumnTransformer(\n",
    "        transformers=[\n",
    "            (\"Dummies\", categorical_transformer, categorical_features),\n",
    "        ]\n",
    "    )\n",
    "    clf = Pipeline(\n",
    "        steps=[(\"preprocessor\", preprocessor), (\"classifier\", LogisticRegression(solver='liblinear'))]\n",
    "    )\n",
    "    clf.fit(X, y)\n",
    "    return clf\n",
    "\n",
    "def e_step(df, y_pred):\n",
    "    df = df.copy()\n",
    "    df['predict'] = y_pred\n",
    "    df.loc[df['answer'] == 0, 'predict'] = 0\n",
    "    y_new = df.groupby(['tournament_id', 'team_id', 'question'])['predict'].transform('max')\n",
    "    return y_new\n",
    "\n",
    "def m_step(X, y):\n",
    "    clf = train_model(X, y)\n",
    "    return clf, clf.predict(X)\n",
    "\n",
    "def EM_scheme(X, y):\n",
    "    n_epoch = 5\n",
    "    clf = train_model(X, y)\n",
    "\n",
    "    for epoch in range(n_epoch):\n",
    "        print(f'Epoch {epoch + 1}')\n",
    "        y_pred = clf.predict(X)\n",
    "        y = e_step(df_train, y_pred)\n",
    "        clf, y_pred = m_step(X, y)\n",
    "        validation(\n",
    "            clf, df,\n",
    "            players_ids,  \n",
    "            results,\n",
    "            idx_list_test, n_tourn\n",
    "        )\n",
    "    return clf"
   ]
  },
  {
   "cell_type": "code",
   "execution_count": null,
   "id": "44887e48",
   "metadata": {},
   "outputs": [
    {
     "name": "stdout",
     "output_type": "stream",
     "text": [
      "Epoch 1\n"
     ]
    },
    {
     "data": {
      "application/vnd.jupyter.widget-view+json": {
       "model_id": "0dec909f91ae461d958d71dcd9c7667e",
       "version_major": 2,
       "version_minor": 0
      },
      "text/plain": [
       "  0%|          | 0/422 [00:00<?, ?it/s]"
      ]
     },
     "metadata": {},
     "output_type": "display_data"
    },
    {
     "name": "stdout",
     "output_type": "stream",
     "text": [
      "Spearman correlation =  0.72\n",
      "Kendall correlation =  0.56\n",
      "Epoch 2\n"
     ]
    }
   ],
   "source": [
    "clf_em = EM_scheme(X, y)"
   ]
  },
  {
   "cell_type": "code",
   "execution_count": null,
   "id": "8fc40c1a",
   "metadata": {},
   "outputs": [],
   "source": []
  }
 ],
 "metadata": {
  "kernelspec": {
   "display_name": "Python 3 (ipykernel)",
   "language": "python",
   "name": "python3"
  },
  "language_info": {
   "codemirror_mode": {
    "name": "ipython",
    "version": 3
   },
   "file_extension": ".py",
   "mimetype": "text/x-python",
   "name": "python",
   "nbconvert_exporter": "python",
   "pygments_lexer": "ipython3",
   "version": "3.8.16"
  }
 },
 "nbformat": 4,
 "nbformat_minor": 5
}
