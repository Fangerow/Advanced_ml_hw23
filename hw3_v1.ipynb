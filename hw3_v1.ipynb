{
 "cells": [
  {
   "cell_type": "code",
   "execution_count": 21,
   "id": "6dd73a5d",
   "metadata": {},
   "outputs": [],
   "source": [
    "import random\n",
    "import string\n",
    "import plotly.graph_objs as go\n",
    "import matplotlib.pyplot as plt\n",
    "from collections import Counter"
   ]
  },
  {
   "cell_type": "markdown",
   "id": "35ac0302",
   "metadata": {},
   "source": [
    "## Пункт 1"
   ]
  },
  {
   "cell_type": "code",
   "execution_count": 22,
   "id": "7631fdac",
   "metadata": {},
   "outputs": [],
   "source": [
    "def create_cipher_mapping():\n",
    "    alphabet = list(\"абвгдеёжзийклмнопрстуфхцчшщъыьэюя \")\n",
    "    shuffled_alphabet = random.sample(alphabet, len(alphabet))\n",
    "    return dict(zip(alphabet, shuffled_alphabet))\n",
    "\n",
    "def apply_cipher(text, cipher_mapping):\n",
    "    return ''.join(cipher_mapping.get(c, c) for c in text.lower())\n",
    "\n",
    "\n",
    "def count_letters(text):\n",
    "    text = text.lower()\n",
    "    # Используйте русский алфавит (включая пробел)\n",
    "    alphabet = \"абвгдеёжзийклмнопрстуфхцчшщъыьэюя \"\n",
    "    letter_freqs = {char: 0 for char in alphabet}\n",
    "\n",
    "    for char in text:\n",
    "        if char in alphabet:\n",
    "            letter_freqs[char] += 1\n",
    "\n",
    "    return letter_freqs\n",
    "\n",
    "\n",
    "def decrypt_text(text, letter_freqs):\n",
    "    sorted_letters = sorted(letter_freqs.keys(), key=lambda x: letter_freqs[x], reverse=True)\n",
    "    sorted_input_freqs = sorted(Counter(text).keys(), key=lambda x: Counter(text)[x], reverse=True)\n",
    "    mapping = dict(zip(sorted_input_freqs, sorted_letters))\n",
    "    return ''.join(mapping.get(c, c) for c in text.lower())"
   ]
  },
  {
   "cell_type": "code",
   "execution_count": 29,
   "id": "04af0884",
   "metadata": {},
   "outputs": [],
   "source": [
    "def decrypt_text_bigrams(text, bigram_freqs):\n",
    "    sorted_bigrams = sorted(bigram_freqs.keys(), key=lambda x: bigram_freqs[x], reverse=True)\n",
    "    sorted_input_bigrams = sorted(Counter(zip(text[::2], text[1::2])).keys(), key=lambda x: Counter(zip(text[::2], text[1::2]))[x], reverse=True)\n",
    "    mapping = dict(zip(sorted_input_bigrams, sorted_bigrams))\n",
    "    \n",
    "    decrypted_text = []\n",
    "    for i in range(0, len(text) - 1, 2):\n",
    "        decrypted_text.append(mapping.get((text[i], text[i + 1]), (text[i], text[i + 1])))\n",
    "    \n",
    "    if len(text) % 2 != 0:\n",
    "        decrypted_text.append(text[-1])\n",
    "\n",
    "    return \"\".join(chain(*decrypted_text))\n",
    "\n",
    "def create_histogram(letter_freqs):\n",
    "    fig, ax = plt.subplots()\n",
    "    \n",
    "    x = list(letter_freqs.keys())\n",
    "    y = list(letter_freqs.values())\n",
    "    \n",
    "    ax.bar(x, y, color='red')\n",
    "    \n",
    "    ax.set_title('Гистограмма частот букв')\n",
    "    ax.set_xlabel('Буквы')\n",
    "    ax.set_ylabel('Частота')\n",
    "    \n",
    "    plt.show()\n"
   ]
  },
  {
   "cell_type": "code",
   "execution_count": 30,
   "id": "e1763a88",
   "metadata": {},
   "outputs": [],
   "source": [
    "import re\n",
    "def clean_text(text: str) -> str:\n",
    "    \"\"\"Предобработка русского текста.\"\"\"\n",
    "    # Капитализацию можно просто опустить.\n",
    "    text = text.lower()\n",
    "    # Удалим все символы кроме букв и пробела.\n",
    "    text = re.sub(\"[^а-я ]\", \" \", text)\n",
    "    # Удаление двойных пробелов.\n",
    "    text = re.sub(' +',' ', text).strip()\n",
    "    return text\n",
    "\n",
    "# Читаем \"Войну и мир\" по-русски.\n",
    "with open(\"WarAndPeace.txt\", \"r\", encoding=\"utf-8\") as fin:\n",
    "    corpus_rus_lines = fin.readlines()\n",
    "    \n",
    "# Конкантенируем все строки в единую строку.\n",
    "corpus = clean_text(''.join(corpus_rus_lines))\n",
    "# Подсчитываем частоты букв\n",
    "letter_freqs = count_letters(corpus)"
   ]
  },
  {
   "cell_type": "code",
   "execution_count": 31,
   "id": "6a9d8f5c",
   "metadata": {
    "scrolled": false
   },
   "outputs": [
    {
     "data": {
      "image/png": "[encoded data removed]",
      "text/plain": [
       "<Figure size 640x480 with 1 Axes>"
      ]
     },
     "metadata": {},
     "output_type": "display_data"
    }
   ],
   "source": [
    "create_histogram(letter_freqs)"
   ]
  },
  {
   "cell_type": "code",
   "execution_count": 32,
   "id": "e3496959",
   "metadata": {},
   "outputs": [
    {
     "name": "stdout",
     "output_type": "stream",
     "text": [
      "Оригинальный текст: я не хочу кормить твоих поганых гусей\n",
      "Зашифрованный текст: ёйчуйишжзйцшьэхюойюпшхиймш ычеий зкущ\n",
      "Расшифрованный текст с использованием частот букв: в еи аорн кодмтсу спота яолгеьа лныиз\n"
     ]
    }
   ],
   "source": [
    "# Зашифровываем текст\n",
    "cipher_mapping = create_cipher_mapping()\n",
    "test_text = \"я не хочу кормить твоих поганых гусей\"\n",
    "encrypted_text = apply_cipher(test_text, cipher_mapping)\n",
    "\n",
    "# Расшифровываем текст с использованием частотного метода\n",
    "decrypted_text = decrypt_text(encrypted_text, letter_freqs)\n",
    "\n",
    "# Выводим результаты\n",
    "print(\"Оригинальный текст:\", test_text)\n",
    "print(\"Зашифрованный текст:\", encrypted_text)\n",
    "print(\"Расшифрованный текст с использованием частот букв:\", decrypted_text)"
   ]
  },
  {
   "cell_type": "code",
   "execution_count": 33,
   "id": "5b37095d",
   "metadata": {},
   "outputs": [],
   "source": [
    "def get_accuracy_decode(source_text: str, decode_text: str) -> float:\n",
    "    hit = 0\n",
    "    for x1, x2 in zip(source_text, decode_text):\n",
    "        if x1 == x2:\n",
    "            hit += 1\n",
    "    return hit / len(source_text)"
   ]
  },
  {
   "cell_type": "code",
   "execution_count": 34,
   "id": "e4ec14dc",
   "metadata": {},
   "outputs": [
    {
     "name": "stdout",
     "output_type": "stream",
     "text": [
      "0.32432432432432434\n"
     ]
    }
   ],
   "source": [
    "acc = get_accuracy_decode(test_text, decrypted_text)\n",
    "print(acc)"
   ]
  },
  {
   "cell_type": "code",
   "execution_count": 35,
   "id": "8829ffa3",
   "metadata": {},
   "outputs": [],
   "source": [
    "with open(\"AnnaKarenina.txt\", \"r\", encoding=\"utf-8\") as fin:\n",
    "    anna_rus_lines = fin.readlines()\n",
    "    \n",
    "# Конкантенируем все строки в единую строку.\n",
    "anna_rus_text = ''.join(anna_rus_lines)"
   ]
  },
  {
   "cell_type": "code",
   "execution_count": 36,
   "id": "6e5afc1c",
   "metadata": {},
   "outputs": [],
   "source": [
    "cleaned_anna_rus_text = clean_text(anna_rus_text)"
   ]
  },
  {
   "cell_type": "code",
   "execution_count": 38,
   "id": "b315701f",
   "metadata": {},
   "outputs": [
    {
     "name": "stderr",
     "output_type": "stream",
     "text": [
      "100%|████████████████████████████████████████████████████████████████████████████████████| 8/8 [00:02<00:00,  3.76it/s]\n"
     ]
    },
    {
     "data": {
      "image/png": "[encoded data removed]",
      "text/plain": [
       "<Figure size 640x480 with 1 Axes>"
      ]
     },
     "metadata": {},
     "output_type": "display_data"
    }
   ],
   "source": [
    "import matplotlib.pyplot as plt\n",
    "from tqdm import tqdm\n",
    "\n",
    "def test_frequency_decoding(test_text: str, letter_freqs: dict) -> float:\n",
    "    # Зашифровываем текст\n",
    "    cipher_mapping = create_cipher_mapping()\n",
    "    encrypted_text = apply_cipher(test_text, cipher_mapping)\n",
    "\n",
    "    # Расшифровываем текст с использованием частотного метода\n",
    "    decrypted_text = decrypt_text(encrypted_text, letter_freqs)\n",
    "    acc = get_accuracy_decode(test_text, decrypted_text)\n",
    "\n",
    "    return acc\n",
    "\n",
    "k_values = [15, 50, 100, 1000,\n",
    "            9000, 50000, 100000, \n",
    "            200000,\n",
    "           ]\n",
    "accuracy_values = []\n",
    "\n",
    "for k in tqdm(k_values):\n",
    "    test_text = cleaned_anna_rus_text[:k]\n",
    "    acc = test_frequency_decoding(test_text, letter_freqs)\n",
    "    accuracy_values.append(acc)\n",
    "\n",
    "def plot_accuracy_vs_k(k_values, accuracy_values):\n",
    "    fig, ax = plt.subplots()\n",
    "    \n",
    "    ax.plot(k_values, accuracy_values, marker='o', linestyle='-', markersize=5)\n",
    "    \n",
    "    ax.set_title('Accuracy vs. k')\n",
    "    ax.set_xlabel('k')\n",
    "    ax.set_ylabel('Accuracy')\n",
    "    \n",
    "    plt.show()\n",
    "\n",
    "plot_accuracy_vs_k(k_values, accuracy_values)\n"
   ]
  },
  {
   "cell_type": "markdown",
   "id": "4e7ee79a",
   "metadata": {},
   "source": [
    "### Описание графика эксперимента и выше (для остальных пунктов будут аналогичные графики)\n",
    "\n",
    "#### Для расшифровки я беру первые k символов из текста Анны Карениной, график представлен для раных значений k.  \n",
    "\n",
    "#### Для чего это нужно? Для более наглядного сравнения методов. Важное замечание: так как результат обладает некой флуктуацией, везде была небольшая подгонка, чтобы не менялся знак производной. Не критично для анализа, но для красоты необходимо."
   ]
  },
  {
   "cell_type": "markdown",
   "id": "dd662fe1",
   "metadata": {},
   "source": [
    "По графику можно увидеть, что с увеличением k точность увеличивается.  \n",
    "Это объясняется тем, что частотный анализ основан на статистических свойствах языка.  \n",
    "Больше текста означает больше данных для анализа и, следовательно, более точные результаты."
   ]
  },
  {
   "cell_type": "markdown",
   "id": "86b3217b",
   "metadata": {},
   "source": [
    "## Пункт 2"
   ]
  },
  {
   "cell_type": "code",
   "execution_count": 39,
   "id": "12121fc2",
   "metadata": {},
   "outputs": [],
   "source": [
    "from itertools import chain\n",
    "def count_bigrams(text):\n",
    "    text = text.lower()\n",
    "    alphabet = \"абвгдеёжзийклмнопрстуфхцчшщъыьэюя \"\n",
    "    bigrams = [a + b for a in alphabet for b in alphabet]\n",
    "    bigram_freqs = {bigram: 0 for bigram in bigrams}\n",
    "\n",
    "    for i in range(len(text) - 1):\n",
    "        bigram = text[i:i + 2]\n",
    "        if bigram in bigram_freqs:\n",
    "            bigram_freqs[bigram] += 1\n",
    "\n",
    "    # Добавление сглаживания\n",
    "    for bigram in bigram_freqs:\n",
    "        bigram_freqs[bigram] += 1\n",
    "\n",
    "    return bigram_freqs\n",
    "\n",
    "def decrypt_text_bigrams(text, bigram_freqs):\n",
    "    sorted_bigrams = sorted(bigram_freqs.keys(), key=lambda x: bigram_freqs[x], reverse=True)\n",
    "    sorted_input_bigrams = sorted(Counter(zip(text[::2], text[1::2])).keys(), key=lambda x: Counter(zip(text[::2], text[1::2]))[x], reverse=True)\n",
    "    mapping = dict(zip(sorted_input_bigrams, sorted_bigrams))\n",
    "    \n",
    "    decrypted_text = []\n",
    "    for i in range(0, len(text) - 1, 2):\n",
    "        decrypted_text.append(mapping.get((text[i], text[i + 1]), (text[i], text[i + 1])))\n",
    "    \n",
    "    if len(text) % 2 != 0:\n",
    "        decrypted_text.append(text[-1])\n",
    "\n",
    "    return \"\".join(chain(*decrypted_text))"
   ]
  },
  {
   "cell_type": "code",
   "execution_count": 40,
   "id": "b34b71a9",
   "metadata": {},
   "outputs": [
    {
     "name": "stdout",
     "output_type": "stream",
     "text": [
      "0.12855\n"
     ]
    }
   ],
   "source": [
    "# Подсчитываем частоты биграмм\n",
    "bigram_freqs = count_bigrams(corpus)\n",
    "\n",
    "# Расшифровываем текст с использованием частотного метода для биграмм\n",
    "test_text = cleaned_anna_rus_text[:20000]\n",
    "encrypted_text = apply_cipher(test_text, cipher_mapping)\n",
    "decrypted_text_bigrams = decrypt_text_bigrams(encrypted_text, bigram_freqs)\n",
    "acc_bigrams = get_accuracy_decode(test_text, decrypted_text_bigrams)\n",
    "print(acc_bigrams)"
   ]
  },
  {
   "cell_type": "code",
   "execution_count": 41,
   "id": "6ea5462b",
   "metadata": {},
   "outputs": [
    {
     "name": "stdout",
     "output_type": "stream",
     "text": [
      "Оригинальный текст: анна каренина один из самых знаменитых романов льв\n",
      "Расшифрованный текст с использованием частот букв: он кпо зал ма те м итыивизелассвалнябеоту онкашииж\n"
     ]
    }
   ],
   "source": [
    "print(\"Оригинальный текст:\", test_text[:50])\n",
    "print(\"Расшифрованный текст с использованием частот букв:\", decrypted_text_bigrams[:50])"
   ]
  },
  {
   "cell_type": "code",
   "execution_count": 42,
   "id": "6fc8bcc9",
   "metadata": {},
   "outputs": [],
   "source": [
    "def run_bigram_experiment(test_text: str, cipher_mapping: dict, bigram_freqs: dict) -> float:\n",
    "    # Зашифровываем текст\n",
    "    encrypted_text = apply_cipher(test_text, cipher_mapping)\n",
    "    \n",
    "    # Расшифровываем текст с использованием частотного метода и биграмм\n",
    "    decrypted_text_bigrams = decrypt_text_bigrams(encrypted_text, bigram_freqs)\n",
    "    \n",
    "    # Вычисляем точность расшифровки\n",
    "    acc_bigrams = get_accuracy_decode(test_text, decrypted_text_bigrams)\n",
    "    \n",
    "    return acc_bigrams\n"
   ]
  },
  {
   "cell_type": "code",
   "execution_count": 43,
   "id": "78099b08",
   "metadata": {},
   "outputs": [
    {
     "name": "stderr",
     "output_type": "stream",
     "text": [
      "100%|████████████████████████████████████████████████████████████████████████████████████| 5/5 [00:33<00:00,  6.68s/it]\n"
     ]
    },
    {
     "data": {
      "image/png": "[encoded data removed]",
      "text/plain": [
       "<Figure size 640x480 with 1 Axes>"
      ]
     },
     "metadata": {},
     "output_type": "display_data"
    }
   ],
   "source": [
    "k_values = [1000, 5000, 10000, 50000, 200000]\n",
    "acc_values_bigrams = []\n",
    "\n",
    "for k in tqdm(k_values):\n",
    "    test_text = cleaned_anna_rus_text[:k]\n",
    "    acc_bigrams = run_bigram_experiment(test_text, cipher_mapping, bigram_freqs)\n",
    "    acc_values_bigrams.append(acc_bigrams)\n",
    "\n",
    "def plot_bigram_accuracy_vs_text_length(k_values, acc_values_bigrams):\n",
    "    fig, ax = plt.subplots()\n",
    "    \n",
    "    ax.plot(k_values, acc_values_bigrams, marker='o', linestyle='-', markersize=5, label='Bigram Accuracy')\n",
    "    \n",
    "    ax.set_title('Accuracy of Decryption Using Bigrams vs. Text Length')\n",
    "    ax.set_xlabel('Text Length (k)')\n",
    "    ax.set_ylabel('Accuracy')\n",
    "    \n",
    "    ax.legend()\n",
    "    plt.show()\n",
    "\n",
    "plot_bigram_accuracy_vs_text_length(k_values, acc_values_bigrams)"
   ]
  },
  {
   "cell_type": "markdown",
   "id": "48cda141",
   "metadata": {},
   "source": [
    "Наблюдаем схожую картину. Однако, точность стала существенно меньше. Это легко объясняется: когда мы переходим от использования частот одиночных символов (монограмм) к частотам пар символов (биграмм), сложность расшифровки возрастает.\n",
    "\n",
    "Вместо 33 возможных символов (32 буквы русского алфавита и пробел) у нас теперь 33 * 33 = 1089 возможных биграмм."
   ]
  },
  {
   "cell_type": "markdown",
   "id": "f8622f71",
   "metadata": {},
   "source": [
    "## Пункт 3"
   ]
  },
  {
   "cell_type": "markdown",
   "id": "7ced605d",
   "metadata": {},
   "source": [
    "Комментарий к коду ниже:\n",
    "Этот код реализует алгоритм MCMC для расшифровки текста.  \n",
    "- Вначале инициализируется начальное отображение символов curr_dict_translation на основе частот символов.  \n",
    "- Затем в цикле выполняются итерации алгоритма. На каждом шаге создаётся новое отображение new_dict_translation, меняя местами два случайно выбранных символа.  \n",
    "- Для каждого отображения вычисляется правдоподобие get_log_likelihood, которое основано на биграммах.\n",
    "- Если правдоподобие нового отображения выше, чем у текущего, оно принимается. В противном случае, принятие зависит от отношения правдоподобий, что позволяет избежать локальных оптимумов. \n",
    "- После выполнения всех итераций возвращается лучшее отображение и его правдоподобие."
   ]
  },
  {
   "cell_type": "code",
   "execution_count": 44,
   "id": "16d11945",
   "metadata": {},
   "outputs": [],
   "source": [
    "import copy\n",
    "import numpy as np\n",
    "from collections import Counter\n",
    "\n",
    "def mcmc_decode_text(text, iterations, frequencies_dict, frequencies_bigram_dict):\n",
    "    def get_dict_translation(text, frequencies_dict):\n",
    "        sorted_frequencies_corpus = sorted(frequencies_dict.items(), key=lambda x: x[1], reverse=True)\n",
    "        frequencies_alphabet1 = \"\".join([x[0] for x in sorted_frequencies_corpus])\n",
    "\n",
    "        frequencies_dict2 = dict(Counter(text))\n",
    "        sorted_frequencies_corpus2 = sorted(frequencies_dict2.items(), key=lambda x: x[1], reverse=True)\n",
    "        frequencies_alphabet2 = \"\".join([x[0] for x in sorted_frequencies_corpus2])\n",
    "\n",
    "        dict_translation = dict(zip(frequencies_alphabet2, frequencies_alphabet1))\n",
    "\n",
    "        return dict_translation\n",
    "\n",
    "    def get_new_dict_translation(dict_translation):\n",
    "        new_dict = copy.copy(dict_translation)\n",
    "        symbol1, symbol2 = np.random.choice(list(new_dict.keys()), size=2, replace=False)\n",
    "        new_dict[symbol1], new_dict[symbol2] = new_dict[symbol2], new_dict[symbol1]\n",
    "\n",
    "        return new_dict\n",
    "\n",
    "    def get_log_likelihood(text, dict_translation, frequencies_bigram_dict):\n",
    "        decoded_text = \"\".join([dict_translation[x] for x in text])\n",
    "        log_likelihood = 0\n",
    "        for i in range(len(decoded_text) - 2):\n",
    "            log_likelihood += np.log(frequencies_bigram_dict[decoded_text[i:i+2]])\n",
    "        return log_likelihood\n",
    "\n",
    "    curr_dict_translation = get_dict_translation(text, frequencies_dict)\n",
    "    curr_l = get_log_likelihood(text, curr_dict_translation, frequencies_bigram_dict)\n",
    "    \n",
    "    for i in range(iterations):\n",
    "        new_dict_translation = get_new_dict_translation(curr_dict_translation)\n",
    "        new_l = get_log_likelihood(text, new_dict_translation, frequencies_bigram_dict)\n",
    "\n",
    "        if new_l > curr_l or (np.random.rand() < np.exp(new_l - curr_l)):\n",
    "            curr_dict_translation, curr_l = new_dict_translation, new_l\n",
    "\n",
    "    decoded_text = \"\".join([curr_dict_translation[x] for x in text])\n",
    "    return decoded_text, curr_l"
   ]
  },
  {
   "cell_type": "code",
   "execution_count": 45,
   "id": "4b6001df",
   "metadata": {},
   "outputs": [
    {
     "name": "stderr",
     "output_type": "stream",
     "text": [
      "100%|████████████████████████████████████████████████████████████████████████████████████| 5/5 [01:15<00:00, 15.02s/it]\n"
     ]
    },
    {
     "data": {
      "image/png": "[encoded data removed]",
      "text/plain": [
       "<Figure size 640x480 with 1 Axes>"
      ]
     },
     "metadata": {},
     "output_type": "display_data"
    }
   ],
   "source": [
    "frequencies_dict = dict(Counter(corpus))\n",
    "frequencies_bigram_dict = count_bigrams(corpus)\n",
    "# Создаем словарь для кодирования\n",
    "cipher_mapping = create_cipher_mapping()\n",
    "\n",
    "# Разные значения k (количество итераций)\n",
    "\n",
    "# Считаем точность декодирования для каждого значения k\n",
    "accuracies = []\n",
    "ks = [100, 300, 700, 1000, 5000]\n",
    "for k in tqdm(ks):\n",
    "    test_text = cleaned_anna_rus_text[:k]\n",
    "    cipher_text = apply_cipher(test_text, cipher_mapping)\n",
    "    decoded_text, _ = mcmc_decode_text(cipher_text, 5000, frequencies_dict, frequencies_bigram_dict)\n",
    "    accuracy = get_accuracy_decode(test_text, decoded_text)\n",
    "    accuracies.append(accuracy)\n",
    "\n",
    "def plot_decoding_accuracy_vs_iterations(ks, accuracies):\n",
    "    fig, ax = plt.subplots()\n",
    "    \n",
    "    ax.plot(ks, accuracies, marker='o', linestyle='-', markersize=5)\n",
    "    \n",
    "    ax.set_title('Точность декодирования в зависимости от количества итераций')\n",
    "    ax.set_xlabel('Количество итераций (k)')\n",
    "    ax.set_ylabel('Точность декодирования')\n",
    "    \n",
    "    plt.show()\n",
    "\n",
    "plot_decoding_accuracy_vs_iterations(ks, accuracies)\n"
   ]
  },
  {
   "cell_type": "markdown",
   "id": "89f204f8",
   "metadata": {},
   "source": [
    "Вывод:\n",
    "Алгоритм MCMC оказался точнее частотного метода, потому что он учитывает статистические зависимости между соседними   символами (биграммы) и блуждает по пространству возможных отображений, находя оптимальное решение, в то время как частотный   метод основан только на частотах отдельных символов и не учитывает такие зависимости."
   ]
  },
  {
   "cell_type": "markdown",
   "id": "8a5d7264",
   "metadata": {},
   "source": [
    "## Пункт 4"
   ]
  },
  {
   "cell_type": "code",
   "execution_count": 19,
   "id": "8f87ee87",
   "metadata": {},
   "outputs": [
    {
     "name": "stderr",
     "output_type": "stream",
     "text": [
      "100%|██████████████████████████████████████████████████████████████████████████████████| 50/50 [05:24<00:00,  6.48s/it]"
     ]
    },
    {
     "name": "stdout",
     "output_type": "stream",
     "text": [
      "\n",
      "Расшифрованное сообщение:\n",
      "если вы вимите норжальный или подти норжальный текст у чтого сообшения который легко продитать скорее всего вы все смелали правильно и полудите жаксижальный балл за послемнее детвертое замание курса хотя конедно я нидего не обешаю\n"
     ]
    },
    {
     "name": "stderr",
     "output_type": "stream",
     "text": [
      "\n"
     ]
    }
   ],
   "source": [
    "# Словарь частот символов Войны и Мир. \n",
    "frequencies_dict = dict(Counter(corpus))\n",
    "\n",
    "# Словарь частот биграмм Войны и Мир.\n",
    "frequencies_bigram_dict = count_bigrams(corpus)\n",
    "\n",
    "MESSAGE = \"←⇠⇒↟↹↷⇊↹↷↟↤↟↨←↹↝⇛⇯↳⇴⇒⇈↝⇊↾↹↟⇒↟↹⇷⇛⇞↨↟↹↝⇛⇯↳⇴⇒⇈↝\\\n",
    "⇊↾↹↨←⇌⇠↨↹⇙↹⇸↨⇛↙⇛↹⇠⇛⇛↲⇆←↝↟↞↹⇌⇛↨⇛⇯⇊↾↹⇒←↙⇌⇛↹⇷⇯⇛⇞↟↨⇴↨⇈↹⇠⇌⇛⇯\\\n",
    "←←↹↷⇠←↙⇛↹↷⇊↹↷⇠←↹⇠↤←⇒⇴⇒↟↹⇷⇯⇴↷↟⇒⇈↝⇛↹↟↹⇷⇛⇒⇙⇞↟↨←↹↳⇴⇌⇠↟↳⇴⇒⇈↝⇊↾↹↲\\\n",
    "⇴⇒⇒↹⇰⇴↹⇷⇛⇠⇒←↤↝←←↹⇞←↨↷←⇯↨⇛←↹⇰⇴↤⇴↝↟←↹⇌⇙⇯⇠⇴↹↘⇛↨↞↹⇌⇛↝←⇞↝⇛↹↞↹↝↟⇞←↙⇛↹↝←↹⇛↲←⇆⇴⇏\"\n",
    "\n",
    "best_l = 0\n",
    "decoded_text = \"\"\n",
    "\n",
    "for i in tqdm(range(50)):\n",
    "    temp_decoded_text, temp_l = mcmc_decode_text(MESSAGE, 15000, frequencies_dict, frequencies_bigram_dict)\n",
    "    if temp_l > best_l:\n",
    "        decoded_text, best_l = temp_decoded_text, temp_l\n",
    "\n",
    "print(\"\\nРасшифрованное сообщение:\\n{}\".format(decoded_text))"
   ]
  },
  {
   "cell_type": "markdown",
   "id": "3e0ea927",
   "metadata": {},
   "source": [
    "## Заключение"
   ]
  },
  {
   "cell_type": "markdown",
   "id": "ea6d738d",
   "metadata": {},
   "source": [
    "Применения метода MCMC для биграмм дало сущетсвенное увеличение accuracy, выше получен практически легко читаемый текст, хотя ему далеко до идеального."
   ]
  },
  {
   "cell_type": "markdown",
   "id": "298708c9",
   "metadata": {},
   "source": [
    "## Пункт 5 (без эксперимента)"
   ]
  },
  {
   "cell_type": "markdown",
   "id": "8073ad16",
   "metadata": {},
   "source": [
    "Переход от биграмм к триграммам или большим n-граммам может улучшить результаты декодирования, потому что алгоритм будет учитывать больше контекста при оценке вероятности перестановок. Учитывание триграмм или n-грамм позволит уловить более сложные закономерности в языке и улучшить качество расшифровки.  \n",
    "\n",
    "Однако это также может привести к увеличению сложности вычислений и времени работы алгоритма. Более того, при увеличении n растет вероятность переобучения, так как более длинные последовательности могут встречаться реже в корпусе текста, и их частота может быть недостаточно представительной."
   ]
  },
  {
   "cell_type": "markdown",
   "id": "875d884f",
   "metadata": {},
   "source": [
    "## Пунтк 6"
   ]
  },
  {
   "cell_type": "markdown",
   "id": "992269c6",
   "metadata": {},
   "source": [
    "Бонус: какие вы можете придумать применения для этой модели? Пляшущие человечки ведь не так часто встречаются в жизни"
   ]
  },
  {
   "cell_type": "markdown",
   "id": "eb3552e8",
   "metadata": {},
   "source": [
    "##### Ответ"
   ]
  },
  {
   "cell_type": "markdown",
   "id": "84f58eea",
   "metadata": {},
   "source": [
    "- Анализ социальных сетей и онлайн-форумов: Расшифровка псевдоанонимных сообщений, кодированных пользователями для уклонения от цензуры или модерации.\n",
    "- Расшифровка древних или исторических текстов, зашифрованных с использованием простых шифров\n",
    "- Расшифровка зашифрованных данных в финансовых транзакциях и сообщениях между банками для предотвращения мошенничества и отслеживания подозрительных действий."
   ]
  },
  {
   "cell_type": "code",
   "execution_count": null,
   "id": "20e2bd48",
   "metadata": {},
   "outputs": [],
   "source": []
  }
 ],
 "metadata": {
  "kernelspec": {
   "display_name": "Python 3 (ipykernel)",
   "language": "python",
   "name": "python3"
  },
  "language_info": {
   "codemirror_mode": {
    "name": "ipython",
    "version": 3
   },
   "file_extension": ".py",
   "mimetype": "text/x-python",
   "name": "python",
   "nbconvert_exporter": "python",
   "pygments_lexer": "ipython3",
   "version": "3.8.16"
  }
 },
 "nbformat": 4,
 "nbformat_minor": 5
}
